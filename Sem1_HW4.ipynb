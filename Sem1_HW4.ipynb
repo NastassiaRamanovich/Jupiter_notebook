{
 "cells": [
  {
   "cell_type": "markdown",
   "id": "62e8a85d-0bfd-4097-a268-057621717ce8",
   "metadata": {},
   "source": [
    "Найдите выручку компании в зависимости от месяца Для этого напишите функцию calc_income_by_month(), которая на вход принимает список с датами и список с выручкой, а на выходе словарь, где ключи - это месяцы, а значения - это выручка. Используйте аннотирование типов."
   ]
  },
  {
   "cell_type": "code",
   "execution_count": 17,
   "id": "c58d83b3-be08-4133-b067-918c2fb895fe",
   "metadata": {},
   "outputs": [
    {
     "name": "stdout",
     "output_type": "stream",
     "text": [
      "400\n"
     ]
    }
   ],
   "source": [
    "dates = ['2021-11-01', '2021-10-02', '2021-11-03']\n",
    "incomes = [100, 200, 300]\n",
    "print(sum([m for d, m in zip(dates, incomes) if d[5:7] == \"11\"]))"
   ]
  }
 ],
 "metadata": {
  "kernelspec": {
   "display_name": "Python 3 (ipykernel)",
   "language": "python",
   "name": "python3"
  },
  "language_info": {
   "codemirror_mode": {
    "name": "ipython",
    "version": 3
   },
   "file_extension": ".py",
   "mimetype": "text/x-python",
   "name": "python",
   "nbconvert_exporter": "python",
   "pygments_lexer": "ipython3",
   "version": "3.12.2"
  }
 },
 "nbformat": 4,
 "nbformat_minor": 5
}
