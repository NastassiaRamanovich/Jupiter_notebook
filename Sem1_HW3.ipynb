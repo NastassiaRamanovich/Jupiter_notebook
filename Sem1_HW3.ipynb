{
 "cells": [
  {
   "cell_type": "markdown",
   "id": "b092cf33-b4ef-4e63-86ad-008d60ff7ff3",
   "metadata": {},
   "source": [
    "Даны два списка: дата покупки dates, суммы покупок по датам income.\n",
    "Найти итоговую сумму всех покупок в ноябре и сохранить ее в переменную x.\n",
    "Используйте list comprehensions."
   ]
  },
  {
   "cell_type": "code",
   "execution_count": null,
   "id": "b25abe6c-18d3-4ae6-9009-f45d231505a9",
   "metadata": {},
   "outputs": [],
   "source": [
    "def calc_income_by_month(dates: list, incomes: list) -> dict:\n",
    "    temp = list(zip(dates, incomes))\n",
    "    result = {}\n",
    "    for k, v in temp:\n",
    "        result[k.split('-')[1]] = result.get(k.split('-')[1],0) + v\n",
    "    return result\n",
    "print(calc_income_by_month(dates = ['2021-11-01', '2021-10-02', '2021-11-03'], incomes = [100, 200, 300]))"
   ]
  }
 ],
 "metadata": {
  "kernelspec": {
   "display_name": "Python 3 (ipykernel)",
   "language": "python",
   "name": "python3"
  },
  "language_info": {
   "codemirror_mode": {
    "name": "ipython",
    "version": 3
   },
   "file_extension": ".py",
   "mimetype": "text/x-python",
   "name": "python",
   "nbconvert_exporter": "python",
   "pygments_lexer": "ipython3",
   "version": "3.12.2"
  }
 },
 "nbformat": 4,
 "nbformat_minor": 5
}
