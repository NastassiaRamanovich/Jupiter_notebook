{
 "cells": [
  {
   "cell_type": "markdown",
   "id": "1a7ed453-92b0-4859-9f6a-fae6634921fa",
   "metadata": {},
   "source": [
    "На складе лежат разные фрукты в разном количестве.\n",
    "Нужно написать функцию total_fruits, которая на вход принимает любое количество названий фруктов и их количество, а возвращает общее количество фруктов на складе.\n",
    "\n",
    "можно решить через *kwargs"
   ]
  },
  {
   "cell_type": "code",
   "execution_count": 67,
   "id": "5be7de4f-1931-4f53-8d84-f47646868c2b",
   "metadata": {},
   "outputs": [
    {
     "name": "stdout",
     "output_type": "stream",
     "text": [
      "apples: 10\n",
      "bananas: 5\n",
      "oranges: 8\n",
      "23\n"
     ]
    }
   ],
   "source": [
    "def total_fruits(**kwargs):\n",
    "    for name,count in kwargs.items():\n",
    "      print(f\"{name}: {count}\")\n",
    "    valuesList = list(kwargs.values())\n",
    "    return sum(valuesList)\n",
    "print(total_fruits(apples=10, bananas=5, oranges=8))\n",
    "\n",
    "# summ = 0\n",
    "# for i in range(len(valuesList)):\n",
    "#     summ = summ + valuesList(i)\n",
    "# print(summ)"
   ]
  }
 ],
 "metadata": {
  "kernelspec": {
   "display_name": "Python 3 (ipykernel)",
   "language": "python",
   "name": "python3"
  },
  "language_info": {
   "codemirror_mode": {
    "name": "ipython",
    "version": 3
   },
   "file_extension": ".py",
   "mimetype": "text/x-python",
   "name": "python",
   "nbconvert_exporter": "python",
   "pygments_lexer": "ipython3",
   "version": "3.12.2"
  }
 },
 "nbformat": 4,
 "nbformat_minor": 5
}
