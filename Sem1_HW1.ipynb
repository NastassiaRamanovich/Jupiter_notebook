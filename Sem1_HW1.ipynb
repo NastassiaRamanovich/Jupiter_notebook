{
 "cells": [
  {
   "cell_type": "code",
   "execution_count": 12,
   "id": "cfe39c99-556d-403f-9488-f8813013c94b",
   "metadata": {},
   "outputs": [],
   "source": [
    "adv = [100, 125, -90, 345, 655, -1, 0, 200]\n",
    "x = 0"
   ]
  },
  {
   "cell_type": "code",
   "execution_count": 17,
   "id": "122db274-5f81-4ff1-90b7-1bb8acad722b",
   "metadata": {},
   "outputs": [],
   "source": [
    "adv = [i if i>0 else 0 for i in adv]"
   ]
  },
  {
   "cell_type": "code",
   "execution_count": 18,
   "id": "f548f836-5231-4286-952d-feb4c6a2938d",
   "metadata": {},
   "outputs": [],
   "source": [
    "for index in range(len(adv)):\n",
    "        x = x + adv[index]"
   ]
  },
  {
   "cell_type": "code",
   "execution_count": 19,
   "id": "277208ac-6c89-4a25-bf63-b6fa6b028635",
   "metadata": {},
   "outputs": [
    {
     "data": {
      "text/plain": [
       "1425"
      ]
     },
     "execution_count": 19,
     "metadata": {},
     "output_type": "execute_result"
    }
   ],
   "source": [
    "x"
   ]
  }
 ],
 "metadata": {
  "kernelspec": {
   "display_name": "Python 3 (ipykernel)",
   "language": "python",
   "name": "python3"
  },
  "language_info": {
   "codemirror_mode": {
    "name": "ipython",
    "version": 3
   },
   "file_extension": ".py",
   "mimetype": "text/x-python",
   "name": "python",
   "nbconvert_exporter": "python",
   "pygments_lexer": "ipython3",
   "version": "3.12.2"
  }
 },
 "nbformat": 4,
 "nbformat_minor": 5
}
